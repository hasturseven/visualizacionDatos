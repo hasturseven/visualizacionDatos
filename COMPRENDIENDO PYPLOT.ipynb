{
 "cells": [
  {
   "cell_type": "code",
   "execution_count": null,
   "metadata": {
    "collapsed": true,
    "pycharm": {
     "name": "#%%\n"
    }
   },
   "outputs": [],
   "source": []
  },
  {
   "cell_type": "markdown",
   "source": [
    "COMO EN CASI TODO LO ORENTIADO A OBJETOS AL USAR EL PLT TIENE UNOS VALORES INHERENTES DE ELLOS POR EJEMPLO EL SETTITLE , EL SET LABELX SETLABEL Y , ETC EL SETGRID(TRUE) EL CUAL LE PODREMOS DARR A  CUALQUIER GRAFICO QUE GENEREMOS MIRAR GRAFICABARRAS"
   ],
   "metadata": {
    "collapsed": false,
    "pycharm": {
     "name": "#%% md\n"
    }
   }
  }
 ],
 "metadata": {
  "kernelspec": {
   "display_name": "Python 3",
   "language": "python",
   "name": "python3"
  },
  "language_info": {
   "codemirror_mode": {
    "name": "ipython",
    "version": 2
   },
   "file_extension": ".py",
   "mimetype": "text/x-python",
   "name": "python",
   "nbconvert_exporter": "python",
   "pygments_lexer": "ipython2",
   "version": "2.7.6"
  }
 },
 "nbformat": 4,
 "nbformat_minor": 0
}