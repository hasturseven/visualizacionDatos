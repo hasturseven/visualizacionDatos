{
 "cells": [
  {
   "cell_type": "code",
   "execution_count": 24,
   "metadata": {
    "collapsed": true,
    "pycharm": {
     "name": "#%%\n"
    }
   },
   "outputs": [],
   "source": []
  },
  {
   "cell_type": "markdown",
   "source": [
    "# set (dar estilos a los graficos) mirar documentacion seaborn que es mas facil de leer y me da mas opciones"
   ],
   "metadata": {
    "collapsed": false,
    "pycharm": {
     "name": "#%% md\n"
    }
   }
  },
  {
   "cell_type": "markdown",
   "source": [
    "¿Qué necesitas saber al usar Set?\n",
    "\n",
    ">>Este parámetro afecta a todas las gráficas que creamos, incluidas las que no usan Seaborn.\n",
    ">>Podemos resetear los valores utilizando el método reset_orig.\n",
    ">>Este parámetro es un atajo de set_theme, que es el recomendado según la documentación\n"
   ],
   "metadata": {
    "collapsed": false,
    "pycharm": {
     "name": "#%% md\n"
    }
   }
  },
  {
   "cell_type": "code",
   "execution_count": 25,
   "outputs": [
    {
     "data": {
      "text/plain": "<Figure size 432x288 with 1 Axes>",
      "image/png": "[encoded data removed]"
     },
     "metadata": {},
     "output_type": "display_data"
    }
   ],
   "source": [
    "import seaborn as sns\n",
    "import matplotlib.pyplot as plt\n",
    "#------------ CREANDO GRAFICO DE BARRAS CON SEABORN --------------\n",
    "sns.barplot(x=['A','B','C'] ,y=[1.2,4.5,7.7])\n",
    "\n",
    "#plt.grid(True)\n",
    "plt.show()\n",
    "#------------ como vemos le dio diferente color a cada grafica sin hacer nada ------\n",
    "#------------ recordando que seaborn esta montado con patplotlib por eso podemos usar comandos como el show"
   ],
   "metadata": {
    "collapsed": false,
    "pycharm": {
     "name": "#%%\n"
    }
   }
  },
  {
   "cell_type": "markdown",
   "source": [
    "> como podemos observar le dio colores diferentes sin indicarle por eso es mejor usar seaborn para graficar y mas si tenemos dataset que vengan de pandas"
   ],
   "metadata": {
    "collapsed": false,
    "pycharm": {
     "name": "#%% md\n"
    }
   }
  },
  {
   "cell_type": "markdown",
   "source": [
    "# usando set para dar estilos"
   ],
   "metadata": {
    "collapsed": false,
    "pycharm": {
     "name": "#%% md\n"
    }
   }
  },
  {
   "cell_type": "markdown",
   "source": [
    "Configurar fuentes y estilos\n",
    "\n",
    ">Configura el estilo, la paleta de colores, la fuente y el tamaño de la fuente de la gráfica.\n",
    "> > style: cambia el fondo\n",
    "> > palette: color de las barras del grafico\n",
    "> > fount: es para la fuente\n",
    "> > font_scale: es para el tamaño de la letra\n"
   ],
   "metadata": {
    "collapsed": false,
    "pycharm": {
     "name": "#%% md\n"
    }
   }
  },
  {
   "cell_type": "code",
   "execution_count": 79,
   "outputs": [
    {
     "data": {
      "text/plain": "<Figure size 432x288 with 1 Axes>",
      "image/png": "[encoded data removed]"
     },
     "metadata": {},
     "output_type": "display_data"
    }
   ],
   "source": [
    "\n",
    "#MEJOR ES SIEMPRE USAR SET_THEMES\n",
    "#el custom es para que le quite las barras solo puede quitar las de arriba o la izquierda\n",
    "custom_params = {\"axes.spines.right\": False, \"axes.spines.top\": True}\n",
    "sns.set_theme(style=\"ticks\", rc=custom_params,palette=\"Set2\",font='Verdana',font_scale=1.5)\n",
    "\n",
    "#sns.set( palette=\"Set2\", font='Verdana',font_scale=1)\n",
    "#---------------------------------\n",
    "#tambien puedo dar color de esta manera pero no lo tendra en cuenta s uso set_theme EN REALIDAD NO SIRVE NO SE POR QUE\n",
    "sns.color_palette(\"pastel\")\n",
    "#----------------------\n",
    "sns.barplot(x=['A','B','C'] ,y=[1.2,4.5,7.7])\n",
    "\n",
    "plt.show()"
   ],
   "metadata": {
    "collapsed": false,
    "pycharm": {
     "name": "#%%\n"
    }
   }
  }
 ],
 "metadata": {
  "kernelspec": {
   "display_name": "Python 3",
   "language": "python",
   "name": "python3"
  },
  "language_info": {
   "codemirror_mode": {
    "name": "ipython",
    "version": 2
   },
   "file_extension": ".py",
   "mimetype": "text/x-python",
   "name": "python",
   "nbconvert_exporter": "python",
   "pygments_lexer": "ipython2",
   "version": "2.7.6"
  }
 },
 "nbformat": 4,
 "nbformat_minor": 0
}