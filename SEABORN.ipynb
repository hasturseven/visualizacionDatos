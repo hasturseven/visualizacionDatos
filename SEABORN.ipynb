{
 "cells": [
  {
   "cell_type": "code",
   "execution_count": null,
   "metadata": {
    "collapsed": true,
    "pycharm": {
     "name": "#%%\n"
    }
   },
   "outputs": [],
   "source": []
  },
  {
   "cell_type": "markdown",
   "source": [],
   "metadata": {
    "collapsed": false,
    "pycharm": {
     "name": "#%% md\n"
    }
   }
  },
  {
   "cell_type": "markdown",
   "source": [
    "# SEABORN\n"
   ],
   "metadata": {
    "collapsed": false,
    "pycharm": {
     "name": "#%% md\n"
    }
   }
  },
  {
   "cell_type": "markdown",
   "source": [
    "Seaborn es una librería construida sobre Matplotlib, por lo que hereda todas las bondades de la misma. Fue escrita por Michael Waskom y está integrada para estructuras de Pandas por lo que está optimizada para funcionar con DataFrames.\n",
    "Cuáles son las ventajas de Seaborn\n",
    "\n",
    "Seaborn tiene diferentes ventajas y entre ellas encuentras principalmente:\n",
    "\n",
    ">Tiene una gran velocidad\n",
    ">Facilidad para escribir código\n",
    ">Altamente customizable entre gráficas y visualizaciones\n"
   ],
   "metadata": {
    "collapsed": false,
    "pycharm": {
     "name": "#%% md\n"
    }
   }
  },
  {
   "cell_type": "markdown",
   "source": [
    "# Cuál es la estructura Básica de Seaborn"
   ],
   "metadata": {
    "collapsed": false,
    "pycharm": {
     "name": "#%% md\n"
    }
   }
  },
  {
   "cell_type": "markdown",
   "source": [
    "sns.'Tipo de Grafica'(\n",
    "\t\t data='Dataset',\n",
    "\t\t x='Data en el eje x',\n",
    "\t\t y='Data en el eje y',\n",
    "\t\t hue='Variable de agrupamiento')"
   ],
   "metadata": {
    "collapsed": false,
    "pycharm": {
     "name": "#%% md\n"
    }
   }
  },
  {
   "cell_type": "markdown",
   "source": [
    "# Tipos de Gráficas que tiene Seaborn"
   ],
   "metadata": {
    "collapsed": false,
    "pycharm": {
     "name": "#%% md\n"
    }
   }
  },
  {
   "cell_type": "markdown",
   "source": [
    "Seaborn ofrece ciertas características principales para problemas específicos de visualización de datos:\n",
    "\n",
    ">>Diagramas o gráficas relacionables\n",
    ">>Distribución de datos\n",
    ">>Graficar variables categóricas\n"
   ],
   "metadata": {
    "collapsed": false,
    "pycharm": {
     "name": "#%% md\n"
    }
   }
  },
  {
   "cell_type": "markdown",
   "source": [
    "# Por ejemplo:"
   ],
   "metadata": {
    "collapsed": false,
    "pycharm": {
     "name": "#%% md\n"
    }
   }
  },
  {
   "cell_type": "markdown",
   "source": [
    "\n",
    ">Relplot (relacional): scatterplot, lineplot.\n",
    ">Displot (distribuciones): histplot, kdeplot, ecdfplot, rugplot.\n",
    ">Catplot (categorica): stripplot, swamplot, boxplot, violinplot, pointplot, barplot.\n"
   ],
   "metadata": {
    "collapsed": false,
    "pycharm": {
     "name": "#%% md\n"
    }
   }
  }
 ],
 "metadata": {
  "kernelspec": {
   "display_name": "Python 3",
   "language": "python",
   "name": "python3"
  },
  "language_info": {
   "codemirror_mode": {
    "name": "ipython",
    "version": 2
   },
   "file_extension": ".py",
   "mimetype": "text/x-python",
   "name": "python",
   "nbconvert_exporter": "python",
   "pygments_lexer": "ipython2",
   "version": "2.7.6"
  }
 },
 "nbformat": 4,
 "nbformat_minor": 0
}